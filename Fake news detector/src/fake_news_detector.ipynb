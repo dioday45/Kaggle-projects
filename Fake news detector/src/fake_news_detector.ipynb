{
 "cells": [
  {
   "cell_type": "markdown",
   "id": "2057fc40-2c81-47d3-bab2-4e9d2653fc3e",
   "metadata": {},
   "source": [
    "# Imports"
   ]
  },
  {
   "cell_type": "code",
   "execution_count": 1,
   "id": "10b58746-d7f2-4ffd-93ef-7fedf844aca1",
   "metadata": {},
   "outputs": [
    {
     "name": "stderr",
     "output_type": "stream",
     "text": [
      "[nltk_data] Downloading package wordnet to /Users/jdidio/nltk_data...\n",
      "[nltk_data]   Package wordnet is already up-to-date!\n"
     ]
    }
   ],
   "source": [
    "import numpy as np\n",
    "import pandas as pd\n",
    "import string\n",
    "import re\n",
    "import nltk\n",
    "\n",
    "from sklearn.model_selection import train_test_split\n",
    "from sklearn.metrics import accuracy_score\n",
    "from sklearn.metrics import classification_report\n",
    "from sklearn.tree import DecisionTreeClassifier\n",
    "from sklearn.ensemble import GradientBoostingClassifier\n",
    "from sklearn.ensemble import RandomForestClassifier\n",
    "\n",
    "nltk.download('wordnet')\n",
    "from nltk.stem import WordNetLemmatizer\n",
    "from nltk.corpus import stopwords\n",
    "from sklearn.feature_extraction.text import TfidfVectorizer\n",
    "\n",
    "vectorization = TfidfVectorizer()\n",
    "lemmatizer = WordNetLemmatizer()\n",
    "stopwords = set(stopwords.words('english'))"
   ]
  },
  {
   "cell_type": "markdown",
   "id": "88683ddd-0c34-4e0c-a700-7ee1da5cd4ca",
   "metadata": {},
   "source": [
    "# Load data\n",
    "Here we load the to files, fake and true news, concatenate them togheter and added the label (0 for fake and 1 for non-fake news)"
   ]
  },
  {
   "cell_type": "code",
   "execution_count": 2,
   "id": "93daf72e-e72d-4fa5-a7d5-a3196d644863",
   "metadata": {},
   "outputs": [
    {
     "data": {
      "text/html": [
       "<div>\n",
       "<style scoped>\n",
       "    .dataframe tbody tr th:only-of-type {\n",
       "        vertical-align: middle;\n",
       "    }\n",
       "\n",
       "    .dataframe tbody tr th {\n",
       "        vertical-align: top;\n",
       "    }\n",
       "\n",
       "    .dataframe thead th {\n",
       "        text-align: right;\n",
       "    }\n",
       "</style>\n",
       "<table border=\"1\" class=\"dataframe\">\n",
       "  <thead>\n",
       "    <tr style=\"text-align: right;\">\n",
       "      <th></th>\n",
       "      <th>label</th>\n",
       "      <th>title</th>\n",
       "      <th>text</th>\n",
       "    </tr>\n",
       "  </thead>\n",
       "  <tbody>\n",
       "    <tr>\n",
       "      <th>0</th>\n",
       "      <td>1</td>\n",
       "      <td>As U.S. budget fight looms, Republicans flip t...</td>\n",
       "      <td>WASHINGTON (Reuters) - The head of a conservat...</td>\n",
       "    </tr>\n",
       "    <tr>\n",
       "      <th>1</th>\n",
       "      <td>1</td>\n",
       "      <td>U.S. military to accept transgender recruits o...</td>\n",
       "      <td>WASHINGTON (Reuters) - Transgender people will...</td>\n",
       "    </tr>\n",
       "    <tr>\n",
       "      <th>2</th>\n",
       "      <td>1</td>\n",
       "      <td>Senior U.S. Republican senator: 'Let Mr. Muell...</td>\n",
       "      <td>WASHINGTON (Reuters) - The special counsel inv...</td>\n",
       "    </tr>\n",
       "    <tr>\n",
       "      <th>3</th>\n",
       "      <td>1</td>\n",
       "      <td>FBI Russia probe helped by Australian diplomat...</td>\n",
       "      <td>WASHINGTON (Reuters) - Trump campaign adviser ...</td>\n",
       "    </tr>\n",
       "    <tr>\n",
       "      <th>4</th>\n",
       "      <td>1</td>\n",
       "      <td>Trump wants Postal Service to charge 'much mor...</td>\n",
       "      <td>SEATTLE/WASHINGTON (Reuters) - President Donal...</td>\n",
       "    </tr>\n",
       "    <tr>\n",
       "      <th>...</th>\n",
       "      <td>...</td>\n",
       "      <td>...</td>\n",
       "      <td>...</td>\n",
       "    </tr>\n",
       "    <tr>\n",
       "      <th>44893</th>\n",
       "      <td>0</td>\n",
       "      <td>McPain: John McCain Furious That Iran Treated ...</td>\n",
       "      <td>21st Century Wire says As 21WIRE reported earl...</td>\n",
       "    </tr>\n",
       "    <tr>\n",
       "      <th>44894</th>\n",
       "      <td>0</td>\n",
       "      <td>JUSTICE? Yahoo Settles E-mail Privacy Class-ac...</td>\n",
       "      <td>21st Century Wire says It s a familiar theme. ...</td>\n",
       "    </tr>\n",
       "    <tr>\n",
       "      <th>44895</th>\n",
       "      <td>0</td>\n",
       "      <td>Sunnistan: US and Allied ‘Safe Zone’ Plan to T...</td>\n",
       "      <td>Patrick Henningsen  21st Century WireRemember ...</td>\n",
       "    </tr>\n",
       "    <tr>\n",
       "      <th>44896</th>\n",
       "      <td>0</td>\n",
       "      <td>How to Blow $700 Million: Al Jazeera America F...</td>\n",
       "      <td>21st Century Wire says Al Jazeera America will...</td>\n",
       "    </tr>\n",
       "    <tr>\n",
       "      <th>44897</th>\n",
       "      <td>0</td>\n",
       "      <td>10 U.S. Navy Sailors Held by Iranian Military ...</td>\n",
       "      <td>21st Century Wire says As 21WIRE predicted in ...</td>\n",
       "    </tr>\n",
       "  </tbody>\n",
       "</table>\n",
       "<p>44898 rows × 3 columns</p>\n",
       "</div>"
      ],
      "text/plain": [
       "       label                                              title  \\\n",
       "0          1  As U.S. budget fight looms, Republicans flip t...   \n",
       "1          1  U.S. military to accept transgender recruits o...   \n",
       "2          1  Senior U.S. Republican senator: 'Let Mr. Muell...   \n",
       "3          1  FBI Russia probe helped by Australian diplomat...   \n",
       "4          1  Trump wants Postal Service to charge 'much mor...   \n",
       "...      ...                                                ...   \n",
       "44893      0  McPain: John McCain Furious That Iran Treated ...   \n",
       "44894      0  JUSTICE? Yahoo Settles E-mail Privacy Class-ac...   \n",
       "44895      0  Sunnistan: US and Allied ‘Safe Zone’ Plan to T...   \n",
       "44896      0  How to Blow $700 Million: Al Jazeera America F...   \n",
       "44897      0  10 U.S. Navy Sailors Held by Iranian Military ...   \n",
       "\n",
       "                                                    text  \n",
       "0      WASHINGTON (Reuters) - The head of a conservat...  \n",
       "1      WASHINGTON (Reuters) - Transgender people will...  \n",
       "2      WASHINGTON (Reuters) - The special counsel inv...  \n",
       "3      WASHINGTON (Reuters) - Trump campaign adviser ...  \n",
       "4      SEATTLE/WASHINGTON (Reuters) - President Donal...  \n",
       "...                                                  ...  \n",
       "44893  21st Century Wire says As 21WIRE reported earl...  \n",
       "44894  21st Century Wire says It s a familiar theme. ...  \n",
       "44895  Patrick Henningsen  21st Century WireRemember ...  \n",
       "44896  21st Century Wire says Al Jazeera America will...  \n",
       "44897  21st Century Wire says As 21WIRE predicted in ...  \n",
       "\n",
       "[44898 rows x 3 columns]"
      ]
     },
     "execution_count": 2,
     "metadata": {},
     "output_type": "execute_result"
    }
   ],
   "source": [
    "true_df = pd.read_csv('../data/True.csv')\n",
    "true_df['label'] = 1\n",
    "true_df = true_df[['label', 'title', 'text']]\n",
    "\n",
    "fake_df = pd.read_csv('../data/Fake.csv')\n",
    "fake_df['label'] = 0\n",
    "fake_df = fake_df[['label', 'title', 'text']]\n",
    "\n",
    "news_df = pd.concat([true_df, fake_df]).reset_index(drop=True)\n",
    "news_df.dropna()\n",
    "\n",
    "news_df"
   ]
  },
  {
   "cell_type": "markdown",
   "id": "53654eac-45cf-490b-85c8-801e16803ce1",
   "metadata": {},
   "source": [
    "# Cleaning dataset"
   ]
  },
  {
   "cell_type": "code",
   "execution_count": 3,
   "id": "da9c9340-a86e-4d7f-8f31-de0c0a726593",
   "metadata": {},
   "outputs": [],
   "source": [
    "def remove_stopwords(stopwords, text):\n",
    "    \"\"\"Remove the stopwords from a given string\n",
    "\n",
    "    Args:\n",
    "        stopwords (list(string)): words to remove\n",
    "        text (string): string from whom to remove the words\n",
    "\n",
    "    Returns:\n",
    "        string: the resulting string\n",
    "    \"\"\"\n",
    "    return \" \".join([word for word in text.split() if word.lower() not in stopwords])\n",
    "\n",
    "\n",
    "def remove_punct(text):\n",
    "    \"\"\"Remove the ponctuations from a given string \"text\" and return the result\n",
    "\n",
    "    Args:\n",
    "        text (string): text from whom to remove the punctuations\n",
    "\n",
    "    Returns:\n",
    "        string: text without punctuations\n",
    "    \"\"\"\n",
    "    text = re.sub('/', ' ', text) ## First change all '/' to ' '\n",
    "    return text.translate(str.maketrans(string.punctuation, ' '*len(string.punctuation))) # Replace all punctuations by ' '\n",
    "\n",
    "\n",
    "def add_space(text): # TODO\n",
    "    \"\"\"Remove camel cases from text\n",
    "\n",
    "    Args:\n",
    "        text (string): text to remove camel cases\n",
    "\n",
    "    Returns:\n",
    "        string: text without camel case\n",
    "    \"\"\"\n",
    "    return re.sub('([a-z])([A-Z])', r'\\1 \\2', text)\n",
    "\n",
    "\n",
    "def remove_white_space(text):\n",
    "    \"\"\"Remove extra white spaces\n",
    "\n",
    "    Args:\n",
    "        text (string): text to remove extra white spaces\n",
    "\n",
    "    Returns:\n",
    "        string: text without extra white spaces\n",
    "    \"\"\"\n",
    "    return re.sub(' +', ' ', text)\n",
    "\n",
    "\n",
    "def remove_words_digits(text):\n",
    "    \"\"\"Remove words containing digits\n",
    "\n",
    "    Args:\n",
    "        text (string): text to remove word containing digits\n",
    "\n",
    "    Returns:\n",
    "        string: text without camel case\n",
    "    \"\"\"\n",
    "    return re.sub(r'\\w*\\d\\w*', '', text)\n",
    "\n",
    "\n",
    "def to_lower(text):\n",
    "    \"\"\"Change all words to lower cases\n",
    "\n",
    "    Args:\n",
    "        text (string): text to modify\n",
    "\n",
    "    Returns:\n",
    "        string: text with only lower case words\n",
    "    \"\"\"\n",
    "    return text.lower()\n",
    "\n",
    "\n",
    "def lemmatize(text):\n",
    "    \"\"\"Lemmatize the text\n",
    "\n",
    "    Args:\n",
    "        text (string): text to lemmatize\n",
    "\n",
    "    Returns:\n",
    "        string: text lemmatized\n",
    "    \"\"\"\n",
    "    return \" \".join([lemmatizer.lemmatize(word) for word in text.split()])"
   ]
  },
  {
   "cell_type": "code",
   "execution_count": 4,
   "id": "56fcfad2-0b0c-41d8-b9dd-6b798bbc2630",
   "metadata": {},
   "outputs": [],
   "source": [
    "news_df['title'] = news_df['title'].apply(lambda x: remove_stopwords(stopwords, x))\n",
    "news_df['title'] = news_df['title'].apply(lambda x: remove_punct(x))\n",
    "news_df['title'] = news_df['title'].apply(lambda x: add_space(x))\n",
    "news_df['title'] = news_df['title'].apply(lambda x: remove_white_space(x))\n",
    "news_df['title'] = news_df['title'].apply(lambda x: remove_words_digits(x))\n",
    "news_df['title'] = news_df['title'].apply(lambda x: to_lower(x))\n",
    "news_df['title'] = news_df['title'].apply(lambda x: lemmatize(x))\n",
    "\n",
    "news_df['text'] = news_df['text'].apply(lambda x: remove_stopwords(stopwords, x))\n",
    "news_df['text'] = news_df['text'].apply(lambda x: remove_punct(x))\n",
    "news_df['text'] = news_df['text'].apply(lambda x: add_space(x))\n",
    "news_df['text'] = news_df['text'].apply(lambda x: remove_white_space(x))\n",
    "news_df['text'] = news_df['text'].apply(lambda x: remove_words_digits(x))\n",
    "news_df['text'] = news_df['text'].apply(lambda x: to_lower(x))\n",
    "news_df['text'] = news_df['text'].apply(lambda x: lemmatize(x))"
   ]
  },
  {
   "cell_type": "code",
   "execution_count": 5,
   "id": "730e3a6e-0813-40df-b305-d15fea089660",
   "metadata": {},
   "outputs": [],
   "source": [
    "X_title = news_df['title']\n",
    "X_text = news_df['text']\n",
    "y = news_df['label']"
   ]
  },
  {
   "cell_type": "markdown",
   "id": "a30589c0-d4a8-4736-af2e-183cd6dff6e2",
   "metadata": {},
   "source": [
    "# Fake news detection "
   ]
  },
  {
   "cell_type": "code",
   "execution_count": 6,
   "id": "be93676d-cc9a-43d0-b640-52e3521217b3",
   "metadata": {},
   "outputs": [],
   "source": [
    "# Title data\n",
    "x_title_train, x_title_test, y_title_train, y_title_test = train_test_split(X_title, y, test_size=0.3)\n",
    "\n",
    "x_title_v_train = vectorization.fit_transform(x_title_train)\n",
    "x_title_v_test = vectorization.transform(x_title_test)\n",
    "\n",
    "# Text data\n",
    "x_text_train, x_text_test, y_text_train, y_text_test = train_test_split(X_text, y, test_size=0.3)\n",
    "\n",
    "x_text_v_train = vectorization.fit_transform(x_text_train)\n",
    "x_text_v_test = vectorization.transform(x_text_test)"
   ]
  },
  {
   "cell_type": "markdown",
   "id": "106f08fe-3c84-4951-a1ac-d74ca84c12d7",
   "metadata": {
    "tags": []
   },
   "source": [
    "## Decision Tree classifier"
   ]
  },
  {
   "cell_type": "markdown",
   "id": "a1ef5f72-2c4c-4e5f-ae06-13d5c35be79a",
   "metadata": {},
   "source": [
    "### Based on title"
   ]
  },
  {
   "cell_type": "code",
   "execution_count": 7,
   "id": "ed7a1581-a9e8-452a-90ec-a51b44edb0a4",
   "metadata": {},
   "outputs": [],
   "source": [
    "DT = DecisionTreeClassifier()\n",
    "DT.fit(x_title_v_train, y_title_train)\n",
    "pred_title_dt = DT.predict(x_title_v_test)"
   ]
  },
  {
   "cell_type": "code",
   "execution_count": 8,
   "id": "099072fe-4fb4-4b12-a6f2-b46827f6ddb7",
   "metadata": {},
   "outputs": [
    {
     "name": "stdout",
     "output_type": "stream",
     "text": [
      "              precision    recall  f1-score   support\n",
      "\n",
      "           0       0.91      0.90      0.91      7016\n",
      "           1       0.89      0.91      0.90      6454\n",
      "\n",
      "    accuracy                           0.90     13470\n",
      "   macro avg       0.90      0.90      0.90     13470\n",
      "weighted avg       0.90      0.90      0.90     13470\n",
      "\n"
     ]
    }
   ],
   "source": [
    "print(classification_report(y_title_test, pred_title_dt))"
   ]
  },
  {
   "cell_type": "markdown",
   "id": "66185f4d-b654-4929-9bc0-9798db55b8a1",
   "metadata": {},
   "source": [
    "### Based on text"
   ]
  },
  {
   "cell_type": "code",
   "execution_count": 9,
   "id": "8a022892-4e4d-4130-8144-e9a7c906d9c1",
   "metadata": {},
   "outputs": [],
   "source": [
    "DT = DecisionTreeClassifier()\n",
    "DT.fit(x_text_v_train, y_text_train)\n",
    "pred_text_dt = DT.predict(x_text_v_test)"
   ]
  },
  {
   "cell_type": "code",
   "execution_count": 10,
   "id": "979ae81b-b6f9-4013-a0ab-a35d3abbbbeb",
   "metadata": {},
   "outputs": [
    {
     "name": "stdout",
     "output_type": "stream",
     "text": [
      "              precision    recall  f1-score   support\n",
      "\n",
      "           0       1.00      1.00      1.00      7021\n",
      "           1       1.00      1.00      1.00      6449\n",
      "\n",
      "    accuracy                           1.00     13470\n",
      "   macro avg       1.00      1.00      1.00     13470\n",
      "weighted avg       1.00      1.00      1.00     13470\n",
      "\n"
     ]
    }
   ],
   "source": [
    "print(classification_report(y_text_test, pred_text_dt))"
   ]
  },
  {
   "cell_type": "markdown",
   "id": "53f1dcbc-824d-409c-9b28-705c5b17850c",
   "metadata": {},
   "source": [
    "## Gradient Boosting Classifier"
   ]
  },
  {
   "cell_type": "markdown",
   "id": "be5a1153-0fd2-4c4c-a9fd-605949f1c798",
   "metadata": {},
   "source": [
    "### Based on title"
   ]
  },
  {
   "cell_type": "code",
   "execution_count": 11,
   "id": "048b3816-103e-4618-9b0d-1883fd22b0ed",
   "metadata": {},
   "outputs": [],
   "source": [
    "GB = GradientBoostingClassifier()\n",
    "GB.fit(x_title_v_train, y_title_train)\n",
    "pred_title_gb = GB.predict(x_title_v_test)"
   ]
  },
  {
   "cell_type": "code",
   "execution_count": 12,
   "id": "842c49a5-3047-42a2-a753-b2d80338775c",
   "metadata": {},
   "outputs": [
    {
     "name": "stdout",
     "output_type": "stream",
     "text": [
      "              precision    recall  f1-score   support\n",
      "\n",
      "           0       0.95      0.76      0.84      7016\n",
      "           1       0.78      0.95      0.86      6454\n",
      "\n",
      "    accuracy                           0.85     13470\n",
      "   macro avg       0.86      0.85      0.85     13470\n",
      "weighted avg       0.87      0.85      0.85     13470\n",
      "\n"
     ]
    }
   ],
   "source": [
    "print(classification_report(y_title_test, pred_title_gb))"
   ]
  },
  {
   "cell_type": "markdown",
   "id": "961617cb-f3c9-4e73-8db4-59e98b1ccb24",
   "metadata": {},
   "source": [
    "### Based on text"
   ]
  },
  {
   "cell_type": "code",
   "execution_count": 13,
   "id": "b900e48d-3cab-42c4-aef7-e0fdc9767d3f",
   "metadata": {},
   "outputs": [],
   "source": [
    "GB.fit(x_text_v_train, y_text_train)\n",
    "pred_text_gb = GB.predict(x_text_v_test)"
   ]
  },
  {
   "cell_type": "code",
   "execution_count": 14,
   "id": "9f72d070-d92a-4309-903c-4a3072720066",
   "metadata": {},
   "outputs": [
    {
     "name": "stdout",
     "output_type": "stream",
     "text": [
      "              precision    recall  f1-score   support\n",
      "\n",
      "           0       1.00      1.00      1.00      7021\n",
      "           1       0.99      1.00      1.00      6449\n",
      "\n",
      "    accuracy                           1.00     13470\n",
      "   macro avg       1.00      1.00      1.00     13470\n",
      "weighted avg       1.00      1.00      1.00     13470\n",
      "\n"
     ]
    }
   ],
   "source": [
    "print(classification_report(y_text_test, pred_text_gb))"
   ]
  },
  {
   "cell_type": "markdown",
   "id": "ed813fc1-47dd-463e-a634-c0a6704de652",
   "metadata": {},
   "source": [
    "## Random Forest Classifier"
   ]
  },
  {
   "cell_type": "markdown",
   "id": "71ffbfb2-80b0-4c66-addf-5199e622bfbb",
   "metadata": {},
   "source": [
    "### Based on title"
   ]
  },
  {
   "cell_type": "code",
   "execution_count": 15,
   "id": "f37c51ef-4d16-4a53-86ed-a61ee75e3702",
   "metadata": {},
   "outputs": [],
   "source": [
    "RF = RandomForestClassifier()\n",
    "RF.fit(x_title_v_train, y_title_train)\n",
    "pred_title_rf = RF.predict(x_title_v_test)"
   ]
  },
  {
   "cell_type": "code",
   "execution_count": 16,
   "id": "8d8844e4-dfb7-4618-a340-014a3a1e0b9b",
   "metadata": {},
   "outputs": [
    {
     "name": "stdout",
     "output_type": "stream",
     "text": [
      "              precision    recall  f1-score   support\n",
      "\n",
      "           0       0.96      0.93      0.94      7016\n",
      "           1       0.92      0.95      0.94      6454\n",
      "\n",
      "    accuracy                           0.94     13470\n",
      "   macro avg       0.94      0.94      0.94     13470\n",
      "weighted avg       0.94      0.94      0.94     13470\n",
      "\n"
     ]
    }
   ],
   "source": [
    "print(classification_report(y_title_test, pred_title_rf))"
   ]
  },
  {
   "cell_type": "markdown",
   "id": "349462ab-48b8-44e8-bd84-8e4bb2cadc81",
   "metadata": {},
   "source": [
    "### Based on text"
   ]
  },
  {
   "cell_type": "code",
   "execution_count": 17,
   "id": "d9d84811-f9ee-41f6-b453-fdc290c62132",
   "metadata": {},
   "outputs": [],
   "source": [
    "RF.fit(x_text_v_train, y_text_train)\n",
    "pred_text_rf = RF.predict(x_text_v_test)"
   ]
  },
  {
   "cell_type": "code",
   "execution_count": 18,
   "id": "ecc2fbc6-b112-4fbf-a07e-17a996812dcf",
   "metadata": {},
   "outputs": [
    {
     "name": "stdout",
     "output_type": "stream",
     "text": [
      "              precision    recall  f1-score   support\n",
      "\n",
      "           0       0.99      0.99      0.99      7021\n",
      "           1       0.99      0.99      0.99      6449\n",
      "\n",
      "    accuracy                           0.99     13470\n",
      "   macro avg       0.99      0.99      0.99     13470\n",
      "weighted avg       0.99      0.99      0.99     13470\n",
      "\n"
     ]
    }
   ],
   "source": [
    "print(classification_report(y_text_test, pred_text_rf))"
   ]
  },
  {
   "cell_type": "code",
   "execution_count": null,
   "id": "39fdb1b3-5540-45ac-b179-f1dc8d1d2f11",
   "metadata": {},
   "outputs": [],
   "source": []
  }
 ],
 "metadata": {
  "kernelspec": {
   "display_name": "Python 3 (ipykernel)",
   "language": "python",
   "name": "python3"
  },
  "language_info": {
   "codemirror_mode": {
    "name": "ipython",
    "version": 3
   },
   "file_extension": ".py",
   "mimetype": "text/x-python",
   "name": "python",
   "nbconvert_exporter": "python",
   "pygments_lexer": "ipython3",
   "version": "3.9.12"
  }
 },
 "nbformat": 4,
 "nbformat_minor": 5
}
